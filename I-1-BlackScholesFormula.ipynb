{
 "cells": [
  {
   "cell_type": "markdown",
   "metadata": {},
   "source": [
    "# Black Scholes formula\n",
    "\n",
    "\n",
    "Black-Scholes formula for European Put option price\n",
    "\n",
    "\\begin{equation}\n",
    "  P_t = K{\\rm e}^{-r(T-t)}\\Phi\\left(-\\frac{\\ln\\left(\\frac{S_t}{K}\\right)+\\left(r-\\frac{1}{2}\\sigma^2\\right)(T-t)}{\\sigma\\sqrt{T-t}}\\right)\n",
    "-S_t\\Phi\\left( -\\frac{\\ln\\left(\\frac{S_t}{K}\\right)+\\left(r+\\frac{1}{2}\\sigma^2\\right)(T-t)}{\\sigma\\sqrt{T-t}}\\right)\n",
    "\\end{equation}\n",
    "\n",
    "Black-Scholes formula for European Call option price\n",
    "\\begin{equation}\n",
    "C_t = S_t\\Phi\\left( \\frac{\\ln\\left(\\frac{S_t}{K}\\right)+\\left(r+\\frac{1}{2}\\sigma^2\\right)(T-t)}{\\sigma\\sqrt{T-t}}\\right)\n",
    "-K{\\rm e}^{-r(T-t)}\\Phi\\left(\\frac{\\ln\\left(\\frac{S_t}{K}\\right)+\\left(r-\\frac{1}{2}\\sigma^2\\right)(T-t)}{\\sigma\\sqrt{T-t}}\\right)\n",
    "\\end{equation}\n",
    "\n",
    "R code to generate prices using direct implementation of\n",
    "Black-Scholes formula.\n",
    "\n",
    "See commented lines to run with call or put option.\n",
    "\n",
    "\n",
    "\n"
   ]
  },
  {
   "cell_type": "code",
   "execution_count": null,
   "metadata": {},
   "outputs": [],
   "source": [
    " # Black-Scholes formula\n",
    "  blackscholes <- function(S, K, rate, tau, sigma) {\n",
    "  \n",
    "    d1 <- (log(S/K)+(rate+sigma^2/2)*tau)/(sigma*sqrt(tau))\n",
    "    d2 <- d1 - sigma * sqrt(tau)\n",
    "    callval <- S*pnorm(d1) -K*exp(-rate*tau)*pnorm(d2)\n",
    "    #putval <- K*exp(-rate*tau) * pnorm(-d2) - S*pnorm(-d1)\n",
    "    callval\n",
    "  }\n",
    "  curve(blackscholes(S=x,50,.1,2,0.3), from=0, to=100)\n",
    " "
   ]
  },
  {
   "cell_type": "markdown",
   "metadata": {},
   "source": [
    "#### Testing Black-Scholes against real data!\n",
    "\n",
    "From Yahoo-Finance-Options.ipynb: Maturity in 180 days Strike 570 Call Market Price 28.875\n",
    "\n",
    "From Yahoo-Finance-Stocks.ipynb: Price today NFLX 469.9599914550781, Annualized daily volatility from 2019-09-03 to 2020-09-18 for nflx is 43.74%\n",
    "\n",
    "From US-Treasury: rate=0.13"
   ]
  },
  {
   "cell_type": "code",
   "execution_count": null,
   "metadata": {},
   "outputs": [],
   "source": [
    "#Using extimated values from various notebooks\n",
    "currentstock=469.9599914550781\n",
    "strike=570\n",
    "maturity=180/365.\n",
    "vol=0.44\n",
    "rate=0.13\n",
    "\n",
    "sprintf(\"BS price: %.30f\",blackscholes(S=currentstock, K=strike, rate=rate, tau=maturity, sigma=vol))"
   ]
  },
  {
   "cell_type": "markdown",
   "metadata": {},
   "source": [
    "Exercise: What volatility would need to go into the BS model to make the prices match?\n"
   ]
  },
  {
   "cell_type": "code",
   "execution_count": null,
   "metadata": {},
   "outputs": [],
   "source": []
  }
 ],
 "metadata": {
  "kernelspec": {
   "display_name": "R",
   "language": "R",
   "name": "ir"
  },
  "language_info": {
   "codemirror_mode": "r",
   "file_extension": ".r",
   "mimetype": "text/x-r-source",
   "name": "R",
   "pygments_lexer": "r",
   "version": "4.0.2"
  }
 },
 "nbformat": 4,
 "nbformat_minor": 1
}
