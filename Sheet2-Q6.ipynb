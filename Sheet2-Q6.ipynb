{
 "cells": [
  {
   "cell_type": "markdown",
   "metadata": {},
   "source": [
    "## Generate random paths through recombining binomial tree\n",
    "\n",
    "1. Npaths is number of samples through tree used in building histogram of terminal stock prices\n",
    "* N is number of steps in tree (time levels)\n",
    "* p is transition probability for an uptick at each node\n",
    "* T0 is initial stock prices\n",
    "* u is uptick factor\n",
    "* d is downtick factor\n"
   ]
  },
  {
   "cell_type": "code",
   "execution_count": 9,
   "metadata": {},
   "outputs": [],
   "source": [
    "\n",
    "Npaths<-1000\n",
    "N<-100\n",
    "p<-0.75\n",
    "T0<-100\n",
    "u<-1.01\n",
    "d<-0.98\n",
    "r<-0.07\n",
    "T<-3\n",
    "\n",
    "dt<-T/N\n",
    "q<- (exp(r*dt)-d)/(u-d)\n",
    "\n",
    "\n",
    "genpath <- function(T0, u, d, N, prob) {\n",
    "\n",
    "\n",
    "ticks<-sample(c(u,d),N,replace=TRUE,prob=c(prob,1-prob))\n",
    "\n",
    "\n",
    "Tfinal<- T0\n",
    "for (i in 1:N) { # time level: 0 is initial time\n",
    " Tfinal<-Tfinal*ticks[i]\n",
    "}\n",
    " \n",
    " \n",
    " return(Tfinal)\n",
    "}\n",
    "\n",
    "\n",
    "data<-c()\n",
    "for (i in 1:Npaths) { \n",
    "    data[i]<-genpath(T0, u, d, N, prob=p)\n",
    "}\n",
    "\n",
    "\n",
    "\n"
   ]
  },
  {
   "cell_type": "code",
   "execution_count": 10,
   "metadata": {},
   "outputs": [
    {
     "name": "stdout",
     "output_type": "stream",
     "text": [
      "sample mean terminal ln stock value is 128.2878 \n",
      "\n",
      "discounted sample mean terminal ln stock value is 103.9881 \n",
      "\n"
     ]
    },
    {
     "data": {
      "image/png": "[encoded data removed]",
      "text/plain": [
       "Plot with title “Histogram of data”"
      ]
     },
     "metadata": {
      "image/png": {
       "height": 420,
       "width": 420
      }
     },
     "output_type": "display_data"
    }
   ],
   "source": [
    "#hist(data,freq=FALSE,breaks=100)\n",
    "hist(data,freq=FALSE,breaks=100)\n",
    "\n",
    "cat(\"sample mean terminal ln stock value is\", mean(data),\"\\n\\n\")\n",
    "cat(\"discounted sample mean terminal ln stock value is\", exp(-r*T)*mean(data),\"\\n\\n\")"
   ]
  },
  {
   "cell_type": "code",
   "execution_count": null,
   "metadata": {
    "collapsed": true
   },
   "outputs": [],
   "source": []
  }
 ],
 "metadata": {
  "kernelspec": {
   "display_name": "R",
   "language": "R",
   "name": "ir"
  },
  "language_info": {
   "codemirror_mode": "r",
   "file_extension": ".r",
   "mimetype": "text/x-r-source",
   "name": "R",
   "pygments_lexer": "r",
   "version": "4.0.2"
  }
 },
 "nbformat": 4,
 "nbformat_minor": 1
}
